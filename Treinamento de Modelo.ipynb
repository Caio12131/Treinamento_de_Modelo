{
 "cells": [
  {
   "cell_type": "code",
   "execution_count": 14,
   "id": "4277ff50-58c2-485d-9c4a-48a3984e50b2",
   "metadata": {},
   "outputs": [],
   "source": [
    "import torch\n",
    "from torch.utils.data import Dataset, DataLoader\n",
    "import numpy as np\n",
    "\n",
    "class SimpleDataset(Dataset):\n",
    "    def __init__(self, n_samples=1000):\n",
    "        # Gera dados de entrada aleatórios (exemplo: 1 característica)\n",
    "        self.X = np.random.rand(n_samples, 1).astype(np.float32)\n",
    "        # Define a saída como uma função linear da entrada\n",
    "        self.y = (2 * self.X + 3 + 0.1 * np.random.randn(n_samples, 1)).astype(np.float32)  # Exemplo de função y = 2x + 3 + ruído\n",
    "\n",
    "    def __len__(self):\n",
    "        return len(self.X)\n",
    "\n",
    "    def __getitem__(self, idx):\n",
    "        return self.X[idx], self.y[idx]\n",
    "\n",
    "# Criando o dataset e o dataloader\n",
    "dataset = SimpleDataset()\n",
    "dataloader = DataLoader(dataset, batch_size=32, shuffle=True)\n"
   ]
  },
  {
   "cell_type": "code",
   "execution_count": 15,
   "id": "9590f871-39d4-4877-bd1b-d9451d59f81b",
   "metadata": {},
   "outputs": [],
   "source": [
    "import torch.nn as nn\n",
    "\n",
    "class SimpleNeuralNetwork(nn.Module):\n",
    "    def __init__(self):\n",
    "        super(SimpleNeuralNetwork, self).__init__()\n",
    "        # Definindo a arquitetura da rede com duas camadas escondidas\n",
    "        self.hidden1 = nn.Linear(1, 64)       # 1 -> 64 neurônios\n",
    "        self.hidden2 = nn.Linear(64, 32)      # 64 -> 32 neurônios\n",
    "        self.output = nn.Linear(32, 1)        # 32 -> 1 neurônio (regressão de saída única)\n",
    "        self.activation = nn.ReLU()           # Função de ativação ReLU\n",
    "\n",
    "    def forward(self, x):\n",
    "        x = self.activation(self.hidden1(x))\n",
    "        x = self.activation(self.hidden2(x))\n",
    "        x = self.output(x)\n",
    "        return x\n",
    "\n",
    "# Instanciando o modelo\n",
    "model = SimpleNeuralNetwork()\n"
   ]
  },
  {
   "cell_type": "code",
   "execution_count": 16,
   "id": "0eddc190-964e-49cd-ac23-c93c923f0194",
   "metadata": {},
   "outputs": [],
   "source": [
    "import torch.optim as optim\n",
    "\n",
    "# Função de perda MSE (Erro Médio Quadrático)\n",
    "criterion = nn.MSELoss()\n",
    "\n",
    "# Otimizador Adam\n",
    "optimizer = optim.Adam(model.parameters(), lr=0.01)\n"
   ]
  },
  {
   "cell_type": "code",
   "execution_count": 17,
   "id": "2901ec6e-8396-4ce9-9e4e-94ba4e7e1503",
   "metadata": {},
   "outputs": [
    {
     "name": "stdout",
     "output_type": "stream",
     "text": [
      "Epoch 10/100, Loss: 0.0068\n",
      "Epoch 20/100, Loss: 0.0130\n",
      "Epoch 30/100, Loss: 0.0127\n",
      "Epoch 40/100, Loss: 0.0048\n",
      "Epoch 50/100, Loss: 0.0180\n",
      "Epoch 60/100, Loss: 0.0166\n",
      "Epoch 70/100, Loss: 0.0303\n",
      "Epoch 80/100, Loss: 0.0113\n",
      "Epoch 90/100, Loss: 0.0050\n",
      "Epoch 100/100, Loss: 0.0110\n"
     ]
    }
   ],
   "source": [
    "# Configuração para GPU se disponível\n",
    "device = torch.device(\"cuda\" if torch.cuda.is_available() else \"cpu\")\n",
    "model.to(device)\n",
    "\n",
    "# Loop de treinamento\n",
    "n_epochs = 100\n",
    "for epoch in range(n_epochs):\n",
    "    for inputs, targets in dataloader:\n",
    "        # Movendo dados para o dispositivo (CPU ou GPU)\n",
    "        inputs, targets = inputs.to(device), targets.to(device)\n",
    "        \n",
    "        # Etapa de previsão\n",
    "        predictions = model(inputs)\n",
    "        \n",
    "        # Calculando a perda\n",
    "        loss = criterion(predictions, targets)\n",
    "        \n",
    "        # Backpropagation e atualização dos pesos\n",
    "        optimizer.zero_grad()\n",
    "        loss.backward()\n",
    "        optimizer.step()\n",
    "    \n",
    "    # Exibindo a perda por época\n",
    "    if (epoch+1) % 10 == 0:\n",
    "        print(f'Epoch {epoch+1}/{n_epochs}, Loss: {loss.item():.4f}')\n"
   ]
  },
  {
   "cell_type": "code",
   "execution_count": 18,
   "id": "5b840aea-3695-4853-a01b-70d709da3785",
   "metadata": {},
   "outputs": [
    {
     "name": "stdout",
     "output_type": "stream",
     "text": [
      "Predição para entrada 0.5: 4.084863662719727\n"
     ]
    },
    {
     "name": "stderr",
     "output_type": "stream",
     "text": [
      "C:\\Users\\caioc\\AppData\\Local\\Temp\\ipykernel_3964\\956843665.py:6: FutureWarning: You are using `torch.load` with `weights_only=False` (the current default value), which uses the default pickle module implicitly. It is possible to construct malicious pickle data which will execute arbitrary code during unpickling (See https://github.com/pytorch/pytorch/blob/main/SECURITY.md#untrusted-models for more details). In a future release, the default value for `weights_only` will be flipped to `True`. This limits the functions that could be executed during unpickling. Arbitrary objects will no longer be allowed to be loaded via this mode unless they are explicitly allowlisted by the user via `torch.serialization.add_safe_globals`. We recommend you start setting `weights_only=True` for any use case where you don't have full control of the loaded file. Please open an issue on GitHub for any issues related to this experimental feature.\n",
      "  loaded_model.load_state_dict(torch.load(\"simple_nn_model.pth\"))\n"
     ]
    }
   ],
   "source": [
    "# Salvando o modelo treinado\n",
    "torch.save(model.state_dict(), \"simple_nn_model.pth\")\n",
    "\n",
    "# Carregando o modelo para uso posterior\n",
    "loaded_model = SimpleNeuralNetwork()\n",
    "loaded_model.load_state_dict(torch.load(\"simple_nn_model.pth\"))\n",
    "loaded_model.to(device)\n",
    "loaded_model.eval()  # Colocando o modelo em modo de avaliação\n",
    "\n",
    "# Fazendo uma previsão com novos dados\n",
    "new_data = torch.tensor([[0.5]], device=device)  # Exemplo de dado de entrada\n",
    "prediction = loaded_model(new_data)\n",
    "print(\"Predição para entrada 0.5:\", prediction.item())\n"
   ]
  },
  {
   "cell_type": "code",
   "execution_count": 19,
   "id": "2eb9afa2-9af2-4728-86c6-e25d00da8d82",
   "metadata": {},
   "outputs": [
    {
     "name": "stderr",
     "output_type": "stream",
     "text": [
      "Cloning into 'repositorio'...\n",
      "remote: Repository not found.\n",
      "fatal: repository 'https://github.com/Caio12131/repositorio.git/' not found\n"
     ]
    }
   ],
   "source": [
    "!git clone https://github.com/Caio12131/repositorio.git\n"
   ]
  },
  {
   "cell_type": "code",
   "execution_count": 20,
   "id": "0fccf244-2cdb-4463-8d12-8df4ea32888e",
   "metadata": {},
   "outputs": [
    {
     "name": "stdout",
     "output_type": "stream",
     "text": [
      "Initialized empty Git repository in C:/Users/caioc/.git/\n"
     ]
    }
   ],
   "source": [
    "!git init\n"
   ]
  },
  {
   "cell_type": "code",
   "execution_count": null,
   "id": "f6613e45-85e8-448f-ab9d-33404e8dff52",
   "metadata": {},
   "outputs": [],
   "source": [
    "!git add .\n"
   ]
  },
  {
   "cell_type": "code",
   "execution_count": null,
   "id": "9415d0ac-2d13-45ba-9713-777c7d4282d4",
   "metadata": {},
   "outputs": [],
   "source": [
    "!git commit -m \"Primeiro commit\"\n"
   ]
  },
  {
   "cell_type": "code",
   "execution_count": null,
   "id": "bcaea1b6-49c2-402a-97de-07ff17eab2c0",
   "metadata": {},
   "outputs": [],
   "source": [
    "!git clone https://github.com/Caio12131/Treinamento_de_Modelo.git\n"
   ]
  },
  {
   "cell_type": "code",
   "execution_count": null,
   "id": "3f342f90-2072-4c72-82d6-68f3d660ba82",
   "metadata": {},
   "outputs": [],
   "source": [
    "!git add .\n"
   ]
  },
  {
   "cell_type": "code",
   "execution_count": null,
   "id": "fbd476f0-c26f-474c-b610-4b32e82f4e44",
   "metadata": {},
   "outputs": [],
   "source": [
    "!git commit -m \"Mensagem do commit\"\n"
   ]
  },
  {
   "cell_type": "code",
   "execution_count": null,
   "id": "3a4d81ed-4289-4517-aaa5-d38a0f386574",
   "metadata": {},
   "outputs": [],
   "source": [
    "!git push origin master\n"
   ]
  },
  {
   "cell_type": "code",
   "execution_count": null,
   "id": "cedbbf8d-4b71-444e-9a0d-74f099f1a768",
   "metadata": {},
   "outputs": [],
   "source": []
  }
 ],
 "metadata": {
  "kernelspec": {
   "display_name": "Python 3 (ipykernel)",
   "language": "python",
   "name": "python3"
  },
  "language_info": {
   "codemirror_mode": {
    "name": "ipython",
    "version": 3
   },
   "file_extension": ".py",
   "mimetype": "text/x-python",
   "name": "python",
   "nbconvert_exporter": "python",
   "pygments_lexer": "ipython3",
   "version": "3.11.7"
  }
 },
 "nbformat": 4,
 "nbformat_minor": 5
}
